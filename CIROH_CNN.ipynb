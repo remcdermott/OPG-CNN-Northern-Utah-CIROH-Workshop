{
 "cells": [
  {
   "cell_type": "markdown",
   "metadata": {},
   "source": [
    "# CIROH Developers Conference: Hydrological Applications of ML\n",
    "### CNNs for Predicting Daily Orographic Precipitation Gradients (OPGs) for Atmospheric Downscaling"
   ]
  },
  {
   "cell_type": "markdown",
   "metadata": {},
   "source": [
    "## Introduction\n",
    "\n",
    "In this exercise, we'll build a convolutional neural network (CNN) for regression of orographic precipitation gradients of Northern Utah. Other uses include:\n",
    "\n",
    "- Image classification\n",
    "- Image denoising or reconstruction\n",
    "\n",
    "But all methods are based around two basic operations: \n",
    "\n",
    "- Convolution: in this step, the network learns a series of kernels or filters that transform the original image in some way. These are similar to filters that are used in standard image processing (e.g. low-pass filters), but filters are chosen by how well the transformed image maps to the outcome variable. To put this another way, these filters identify shapes or features that are important in differentiating between different outcomes\n",
    "- Max-pooling: in this step, the image resolution is transformed. In general, the resolution is halved, by aggregating groups of four pixels in a two by two window. \n",
    "\n",
    "In general, these steps are repeated several times. As this progresses, the small shapes identified in the first set of convolutions are progressively combined into larger structures. For example, a series of small curves or lines could be aggregated into a cat's eye.\n"
   ]
  },
  {
   "cell_type": "markdown",
   "metadata": {},
   "source": [
    "## Data processing\n",
    "##### Let's start, as usual, by loading the libraries we'll need for the lab:"
   ]
  },
  {
   "cell_type": "code",
   "execution_count": 1,
   "metadata": {
    "tags": []
   },
   "outputs": [],
   "source": [
    "# Data manipulation\n",
    "# Here, Pandas will be used to load in csv datasets\n",
    "import pandas as pd\n",
    "import numpy as np\n",
    "# Atmospheric data are often put in NetCDF data \n",
    "# files, which are best opened using Xarray\n",
    "import xarray as xr\n",
    "\n",
    "# Plotting\n",
    "import matplotlib.pyplot as plt\n",
    "from matplotlib import colors\n",
    "\n",
    "# You can also load in other python scripts that contain \n",
    "# functions like a Python Library. This one contains a list \n",
    "# of Colormaps for plotting\n",
    "import nclcmaps as ncm"
   ]
  },
  {
   "cell_type": "markdown",
   "metadata": {},
   "source": [
    "##### Now we set the path to the data folders and download the datasets. If you have any questions about setting this path, please ask. "
   ]
  },
  {
   "cell_type": "code",
   "execution_count": 2,
   "metadata": {
    "tags": []
   },
   "outputs": [],
   "source": [
    "# load in the atmospheric data\n",
    "path      = \"../datasets/era5_atmos/\"\n",
    "IVT       = xr.open_dataset(f\"{path}IVT_sfc.nc\")\n",
    "precip    = xr.open_dataset(f\"{path}precip_sfc.nc\")*1000\n",
    "temp700   = xr.open_dataset(f\"{path}temp_700.nc\")-273.15\n",
    "uwinds700 = xr.open_dataset(f\"{path}uwnd_700.nc\")\n",
    "vwinds700 = xr.open_dataset(f\"{path}vwnd_700.nc\")\n",
    "hgt500    = xr.open_dataset(f\"{path}hgt_500.nc\")/9.81"
   ]
  },
  {
   "cell_type": "markdown",
   "metadata": {},
   "source": [
    "##### The atmospheric data are in NetCDF files. This file type is used because it includes information about the dataset it contains. Below, lets print what is inside of the precip file."
   ]
  },
  {
   "cell_type": "code",
   "execution_count": 3,
   "metadata": {
    "tags": []
   },
   "outputs": [
    {
     "name": "stdout",
     "output_type": "stream",
     "text": [
      "<xarray.Dataset>\n",
      "Dimensions:    (latitude: 19, longitude: 27, time: 2708)\n",
      "Coordinates:\n",
      "  * latitude   (latitude) float32 36.0 36.5 37.0 37.5 ... 43.5 44.0 44.5 45.0\n",
      "  * longitude  (longitude) float32 -119.0 -118.5 -118.0 ... -107.0 -106.5 -106.0\n",
      "  * time       (time) datetime64[ns] 1988-01-01 1988-01-02 ... 2017-12-31\n",
      "Data variables:\n",
      "    precip     (time, latitude, longitude) float32 0.02396 0.0 ... 0.09616\n"
     ]
    }
   ],
   "source": [
    "print(precip)"
   ]
  },
  {
   "cell_type": "markdown",
   "metadata": {},
   "source": [
    "##### Above we first see the `Dimentions` of the dataset: Latitude, Longitude, and time. These dimention variables are listed under `Coordinates`, which allows us to easily work with the precip data. Then `Data variables` lists precip. A NetCDF file has the ability to list numerous `Data variables` of any combination of the above `Coordinates`."
   ]
  },
  {
   "cell_type": "code",
   "execution_count": 4,
   "metadata": {
    "tags": []
   },
   "outputs": [
    {
     "name": "stdout",
     "output_type": "stream",
     "text": [
      "                 157       158       165  186       422  449  648       675  \\\n",
      "1988-01-01  0.001612       NaN -0.005168  NaN       NaN  NaN  NaN  0.002508   \n",
      "1988-01-02  0.000298 -0.000164       NaN  NaN       NaN  NaN  NaN -0.000124   \n",
      "1988-01-03  0.000298       NaN  0.002487  NaN       NaN  NaN  NaN       NaN   \n",
      "1988-01-04 -0.001908 -0.005142  0.008526  NaN  0.003778  NaN  NaN  0.005926   \n",
      "1988-01-05  0.005015  0.005436  0.001784  NaN  0.025238  NaN  NaN  0.004058   \n",
      "...              ...       ...       ...  ...       ...  ...  ...       ...   \n",
      "2017-12-27       NaN       NaN  0.004317  NaN       NaN  NaN  NaN       NaN   \n",
      "2017-12-28       NaN       NaN       NaN  NaN       NaN  NaN  NaN       NaN   \n",
      "2017-12-29       NaN       NaN       NaN  NaN       NaN  NaN  NaN       NaN   \n",
      "2017-12-30       NaN       NaN       NaN  NaN       NaN  NaN  NaN       NaN   \n",
      "2017-12-31       NaN       NaN       NaN  NaN       NaN  NaN  NaN       NaN   \n",
      "\n",
      "                 685       704  ...      1842      1850      1860      2085  \\\n",
      "1988-01-01       NaN       NaN  ...       NaN -0.000021  0.000458       NaN   \n",
      "1988-01-02       NaN       NaN  ...       NaN       NaN       NaN  0.002894   \n",
      "1988-01-03  0.000418       NaN  ...       NaN  0.001575  0.001132  0.010064   \n",
      "1988-01-04  0.000863       NaN  ... -0.004870 -0.000186  0.009315  0.007289   \n",
      "1988-01-05  0.000138 -0.006763  ...  0.008975  0.002302  0.005890  0.014634   \n",
      "...              ...       ...  ...       ...       ...       ...       ...   \n",
      "2017-12-27       NaN       NaN  ...       NaN       NaN  0.003309       NaN   \n",
      "2017-12-28       NaN       NaN  ...       NaN       NaN       NaN       NaN   \n",
      "2017-12-29       NaN       NaN  ...       NaN       NaN       NaN       NaN   \n",
      "2017-12-30       NaN       NaN  ...       NaN       NaN       NaN       NaN   \n",
      "2017-12-31       NaN       NaN  ...       NaN       NaN       NaN       NaN   \n",
      "\n",
      "                2120      2131      2150  2269      2273      2292  \n",
      "1988-01-01  0.000729  0.000192       NaN   NaN       NaN  0.000877  \n",
      "1988-01-02  0.000312 -0.000063  0.005345   NaN       NaN  0.000338  \n",
      "1988-01-03  0.000787  0.000724       NaN   NaN       NaN  0.000716  \n",
      "1988-01-04  0.000680  0.000472  0.005421   NaN  0.004060  0.003508  \n",
      "1988-01-05  0.005383  0.001377  0.004465   NaN -0.003098 -0.000855  \n",
      "...              ...       ...       ...   ...       ...       ...  \n",
      "2017-12-27       NaN       NaN       NaN   NaN       NaN  0.002265  \n",
      "2017-12-28       NaN       NaN       NaN   NaN       NaN       NaN  \n",
      "2017-12-29       NaN       NaN       NaN   NaN       NaN       NaN  \n",
      "2017-12-30       NaN       NaN       NaN   NaN       NaN       NaN  \n",
      "2017-12-31       NaN       NaN       NaN   NaN       NaN       NaN  \n",
      "\n",
      "[2708 rows x 30 columns]\n"
     ]
    }
   ],
   "source": [
    "# load in the OPGs\n",
    "path = \"../datasets/facets_and_opgs/\"\n",
    "opg  = pd.read_csv(f\"{path}winter_northernUT_opg.csv\", index_col=0)\n",
    "print(opg)"
   ]
  },
  {
   "cell_type": "markdown",
   "metadata": {},
   "source": [
    "##### Above shows the opg file when opened using the Pandas library. It contains an index of winter season dates from 1988 to 2017 and the column headers are each facet's identification number. Within the file are the observed OPGs. For days without precipitation or an OPG obsservation due to mesonet station counts, the value is set to NaN."
   ]
  },
  {
   "cell_type": "markdown",
   "metadata": {},
   "source": [
    "#### Standardizing the Datasets:\n",
    "\n",
    "##### Since the values between the atmospheric variables contain a large variability in scale, we standardize each variable individually. This levels the playing field, so to speak, so that all atmospheric variables are taken into account within the CNN. This also applies to the facet OPGs, as a machine learning model is better equipted predicting values between -1 and 1.\n",
    "\n",
    "##### In other cases, you may prefer to normalize the datasets. "
   ]
  },
  {
   "cell_type": "code",
   "execution_count": 5,
   "metadata": {
    "tags": []
   },
   "outputs": [],
   "source": [
    "# Standardize the atmospheric data\n",
    "\n",
    "# With Xarray datasets, operations are available to be applied along \n",
    "# existing dimensions by name. Here we are able to formulate the \n",
    "# mean and standard deviation along the time dimension. If you're \n",
    "# curious to see what other function operations that can be applied, \n",
    "# go to this link: https://docs.xarray.dev/en/stable/api.html\n",
    "IVT       = (IVT - IVT.mean(dim=\"time\")) / IVT.std(dim=\"time\")\n",
    "precip    = (precip - precip.mean(dim=\"time\")) / precip.std(dim=\"time\")\n",
    "temp700   = (temp700 - temp700.mean(dim=\"time\")) / temp700.std(dim=\"time\")\n",
    "uwinds700 = (uwinds700 - uwinds700.mean(dim=\"time\")) / uwinds700.std(dim=\"time\")\n",
    "vwinds700 = (vwinds700 - vwinds700.mean(dim=\"time\")) / vwinds700.std(dim=\"time\")\n",
    "hgt500    = (hgt500 - hgt500.mean(dim=\"time\")) / hgt500.std(dim=\"time\")\n",
    "\n",
    "# extract the facet list and the OPG values\n",
    "facet_list = opg.columns.values\n",
    "opg = opg.values\n",
    "\n",
    "# Standardize the OPGs\n",
    "# We are saving the OPG mean and standard deviation so that \n",
    "# we can convert the predicted standardized values back to the \n",
    "# true OPG values later on\n",
    "opg_mean = np.nanmean(opg, axis=0)\n",
    "opg_std  = np.nanstd(opg, axis=0)\n",
    "opg = (opg - opg_mean) / opg_std"
   ]
  },
  {
   "cell_type": "markdown",
   "metadata": {},
   "source": [
    "##### Unique to the OPG dataset, for days without precipitation, the value within the array are NaNs. However, machine learning algoirthms of this architecture are unable to predict NaN as an output. Therefore, days without observations are set to zero, as it is the average value of the dataset.\n",
    "\n",
    "##### In classification tasks, the missing values are often set to a new catagory."
   ]
  },
  {
   "cell_type": "code",
   "execution_count": 6,
   "metadata": {
    "tags": []
   },
   "outputs": [],
   "source": [
    "opg[np.isnan(opg)] = 0"
   ]
  },
  {
   "cell_type": "markdown",
   "metadata": {},
   "source": [
    "##### To input the atmospheric data into the CNN model, the atmospheric variables are combined into one array. Additionally, when working with Tensorflow, all datasets need to be either NumPy or Tensorflow Tensors."
   ]
  },
  {
   "cell_type": "code",
   "execution_count": 7,
   "metadata": {
    "tags": []
   },
   "outputs": [
    {
     "name": "stdout",
     "output_type": "stream",
     "text": [
      "(2708, 19, 27, 6)\n"
     ]
    }
   ],
   "source": [
    "# Combine the atmospheric data into one array\n",
    "atmos = np.concatenate((IVT.IVT.values[...,np.newaxis], \n",
    "                        precip.precip.values[...,np.newaxis],\n",
    "                        temp700.temp.values[...,np.newaxis],\n",
    "                        uwinds700.uwnd.values[...,np.newaxis],\n",
    "                        vwinds700.vwnd.values[...,np.newaxis],\n",
    "                        hgt500.hgt.values[...,np.newaxis]), axis=3)\n",
    "print(np.shape(atmos))"
   ]
  },
  {
   "cell_type": "markdown",
   "metadata": {},
   "source": [
    "##### The above output lists the dimensions of all the atmospheric variables combined. It contains 2708 observation days or 'images', with a 19 x 27 grid of latitudes and longitudes. Each atmospheric variable represents a channel, here we have 6 channels. \n",
    "\n",
    "##### Channels can be viewed as layers of the image. For example, when using visual images of RGB colors, there would be 3 channels. \n",
    "\n",
    "##### CNNs are not limited only to images of shape `(samples, height, width, channels)`, CNNs can be used to evaluate vector data `(samples, features)`, timeseries data `(samples, timesteps, features)`, and video data `(samples, frames, height, width, channels)`."
   ]
  },
  {
   "cell_type": "code",
   "execution_count": 8,
   "metadata": {
    "tags": []
   },
   "outputs": [],
   "source": [
    "latitude  = 19 # height\n",
    "longitude = 27 # width\n",
    "channels  = 6  # channel (number of variables put in, for color image three: R,G,B)"
   ]
  },
  {
   "cell_type": "markdown",
   "metadata": {},
   "source": [
    "##### When creating a ML model, the datasets are split into training, validation, and testing subsets. The model is trained on the training subset, evaluated on the validation subset, and tested on the testing subset. \n",
    "\n",
    "##### These datasets are often randomly shuffled to produce training, validation, and testing subsets. If redundency exists in your dataset, or in our case, multipday precipitation events, it can be important to split the subsets differently. Such as by week, months, or years. \n",
    "\n",
    "##### Here, we'll split these datasets at random using a 70/15/15% split."
   ]
  },
  {
   "cell_type": "code",
   "execution_count": 9,
   "metadata": {
    "tags": []
   },
   "outputs": [
    {
     "name": "stdout",
     "output_type": "stream",
     "text": [
      "(406, 19, 27, 6)\n"
     ]
    }
   ],
   "source": [
    "np.random.seed(42) # random seed for result replicability\n",
    "rand_ind = np.random.permutation(np.arange(np.shape(atmos)[0])) #Randomize order of input data\n",
    "\n",
    "# Good practice to have validation, training, testing\n",
    "# validation tells you when to stop training\n",
    "train_atmos = atmos[rand_ind[:1896], ...]\n",
    "test_atmos  = atmos[rand_ind[1896:2302], ...]\n",
    "val_atmos   = atmos[rand_ind[2302:], ...]\n",
    "\n",
    "train_opg = opg[rand_ind[:1896], ...]\n",
    "test_opg  = opg[rand_ind[1896:2302], ...]\n",
    "val_opg   = opg[rand_ind[2302:], ...]\n",
    "\n",
    "print(np.shape(test_atmos)) #prints (num days, lat, long, channels)"
   ]
  },
  {
   "cell_type": "markdown",
   "metadata": {},
   "source": [
    "##### The last parameter we'll set here is the batch size. This parameter controls how many samples are processed in training simultaneously, typically between 8 and 128. The dataset is separated into batches, processed by the model, and the weights within the model are adjusted. Once all batches are processed, one epoch has been completed.\n",
    "\n",
    "##### This also controls how much memory is used per step of training, which is very useful if you're training on a computer with limited memory."
   ]
  },
  {
   "cell_type": "code",
   "execution_count": 10,
   "metadata": {
    "tags": []
   },
   "outputs": [],
   "source": [
    "# ususally 32, 64, or 128\n",
    "batch_size = 32"
   ]
  },
  {
   "cell_type": "markdown",
   "metadata": {
    "tags": []
   },
   "source": [
    "## Create CNN Model\n",
    "\n",
    "##### Let's now set up the model. As this is quite a complex model, we'll do this as a series of steps rather than in one go. First, import all the modules from Tensorflow Keras that we'll need:"
   ]
  },
  {
   "cell_type": "code",
   "execution_count": 11,
   "metadata": {
    "tags": []
   },
   "outputs": [
    {
     "name": "stderr",
     "output_type": "stream",
     "text": [
      "2024-05-30 17:45:14.112287: I tensorflow/core/util/port.cc:113] oneDNN custom operations are on. You may see slightly different numerical results due to floating-point round-off errors from different computation orders. To turn them off, set the environment variable `TF_ENABLE_ONEDNN_OPTS=0`.\n",
      "2024-05-30 17:45:14.142740: I tensorflow/core/platform/cpu_feature_guard.cc:182] This TensorFlow binary is optimized to use available CPU instructions in performance-critical operations.\n",
      "To enable the following instructions: SSE4.1 SSE4.2 AVX AVX2 AVX512F AVX512_VNNI FMA, in other operations, rebuild TensorFlow with the appropriate compiler flags.\n"
     ]
    }
   ],
   "source": [
    "# Here we load in a function to allow us to Sequentially build the CNN architecture\n",
    "from tensorflow.keras.models import Sequential\n",
    "# Here we load in the CNN layers\n",
    "from tensorflow.keras.layers import (Input, Conv2D, Dense, ReLU, BatchNormalization, \n",
    "                                     MaxPooling2D, Dropout, Flatten)\n",
    "# Here we load in the optimizer we will use\n",
    "from tensorflow.keras.optimizers import RMSprop\n",
    "from tensorflow.keras.callbacks import EarlyStopping # gives ability to stop before over fitting"
   ]
  },
  {
   "cell_type": "markdown",
   "metadata": {},
   "source": [
    "##### Now, create a template sequential model, this way we can build the model incrementally:"
   ]
  },
  {
   "cell_type": "code",
   "execution_count": 12,
   "metadata": {
    "tags": []
   },
   "outputs": [],
   "source": [
    "model = Sequential()"
   ]
  },
  {
   "cell_type": "markdown",
   "metadata": {},
   "source": [
    "##### First, we'll use `InputLayer` to declare the shape of the input data. Notice that we care about the entire input set, not the batch size."
   ]
  },
  {
   "cell_type": "code",
   "execution_count": 13,
   "metadata": {
    "tags": []
   },
   "outputs": [],
   "source": [
    "model.add(Input(shape=(latitude, longitude, channels)))"
   ]
  },
  {
   "cell_type": "markdown",
   "metadata": {},
   "source": [
    "##### Next we add the first hidden layer, `Conv2D`. This is a convolutional layer, where we'll create 16 filters (or convolutions) based on the original images, with a 3x3 kernel. We'll add padding to the input of the `Conv2D` layer, this adds the appropriate number of rows and columns around the input image so that the output image is the `same` height and width."
   ]
  },
  {
   "cell_type": "code",
   "execution_count": 14,
   "metadata": {
    "tags": []
   },
   "outputs": [],
   "source": [
    "# kernal_size, num filters, num layers, and activation function are hyperparameters\n",
    "# hyperparam search (2,2) (3,3) or (5,5) to determine which is best for results (3,3) generally standard\n",
    "model.add(Conv2D(filters = 16, kernel_size = (3,3), padding = 'same'))"
   ]
  },
  {
   "cell_type": "markdown",
   "metadata": {},
   "source": [
    "##### We'll then take the output of this layer and pass it through a `ReLU()` activation function (this could have been included directly in the convolutional layer, but this allows a little more control on the process):"
   ]
  },
  {
   "cell_type": "code",
   "execution_count": 15,
   "metadata": {
    "tags": []
   },
   "outputs": [],
   "source": [
    "# Activation function ReLU() filters out anything less than 0\n",
    "# There is a general list of diff act functions this one found to be best\n",
    "model.add(ReLU())"
   ]
  },
  {
   "cell_type": "markdown",
   "metadata": {},
   "source": [
    "##### Now, we add a `MaxPooling2D` layer. As a reminder, this reduces the resolution of the output from the previous layer by a simple filter, forcing the next layer of the network to focus on larger image features. We'll also add a `Dropout` layer. This is a form of regularization. It randomly sets some connection weights to 0 (i.e. having no contribution to the model), which can reduce overfitting."
   ]
  },
  {
   "cell_type": "code",
   "execution_count": 16,
   "metadata": {
    "tags": []
   },
   "outputs": [],
   "source": [
    "model.add(MaxPooling2D(pool_size = (2,2)))\n",
    "model.add(Dropout(.25))"
   ]
  },
  {
   "cell_type": "markdown",
   "metadata": {},
   "source": [
    "##### Let's add another convolutional layer, this time with 32 filters, and pass this through a ReLU activation function."
   ]
  },
  {
   "cell_type": "code",
   "execution_count": 17,
   "metadata": {
    "tags": []
   },
   "outputs": [],
   "source": [
    "# generally double filters for every additional layer\n",
    "model.add(Conv2D(filters = 32, kernel_size = (3,3), padding = 'same'))\n",
    "model.add(ReLU())"
   ]
  },
  {
   "cell_type": "markdown",
   "metadata": {},
   "source": [
    "##### We'll take the output of this function and normalize the weights. This is a simple method that adjusts the mean weight to close to zero and reduces the amount of variation. This helps avoid gradient problems with very small or very large weights"
   ]
  },
  {
   "cell_type": "code",
   "execution_count": 18,
   "metadata": {
    "tags": []
   },
   "outputs": [],
   "source": [
    "model.add(BatchNormalization())"
   ]
  },
  {
   "cell_type": "markdown",
   "metadata": {},
   "source": [
    "##### And we'll run the output of this through a max-pooling function with dropout:"
   ]
  },
  {
   "cell_type": "code",
   "execution_count": 19,
   "metadata": {
    "tags": []
   },
   "outputs": [],
   "source": [
    "# generally pool size must be even\n",
    "model.add(MaxPooling2D(pool_size = (2,2)))\n",
    "# drops nodes to not pass on to next layer, shown to reduce over fitting, prevents over reliance on certain nodes\n",
    "model.add(Dropout(.25))"
   ]
  },
  {
   "cell_type": "markdown",
   "metadata": {},
   "source": [
    "##### Now we'll add layers to connect the output of this last `MaxPooling2D` step to the output (the OPGs). The first thing we need to do is to `Flatten()` the output. The output of the max-pooling is a tensor of shape (4, 6, 32). The size of 4x5 is a result of the two max-pooling operations and the 32 is the number of filters from the second convolution. The `Flatten()` function will flatten this into a rank 1 tensor of shape (768). "
   ]
  },
  {
   "cell_type": "code",
   "execution_count": 20,
   "metadata": {
    "tags": []
   },
   "outputs": [],
   "source": [
    "model.add(Flatten())"
   ]
  },
  {
   "cell_type": "markdown",
   "metadata": {},
   "source": [
    "##### Next we'll pass this flattened layer through a `Dense()` layer, which are densely conncted neural layers. And then through `ReLU()` activation and a dropout"
   ]
  },
  {
   "cell_type": "code",
   "execution_count": 21,
   "metadata": {
    "tags": []
   },
   "outputs": [],
   "source": [
    "# units also hyperparameter\n",
    "model.add(Dense(units = 100))\n",
    "model.add(ReLU())\n",
    "\n",
    "model.add(Dense(units = 100))\n",
    "model.add(ReLU())\n",
    "\n",
    "model.add(Dropout(.25))"
   ]
  },
  {
   "cell_type": "markdown",
   "metadata": {},
   "source": [
    "##### Finally, we need to output predictions. As this is a regression task, the final layer needs to have the same number of nodes as northern Utah facets, and the output is passed through a linear activation function. Linear activation functions are typically used whe you're trying to predict continuous values."
   ]
  },
  {
   "cell_type": "code",
   "execution_count": 22,
   "metadata": {
    "tags": []
   },
   "outputs": [],
   "source": [
    "# length is number of fascets existing (specific node for each facet trying to predict)\n",
    "model.add(Dense(units = len(facet_list), activation = 'linear'))"
   ]
  },
  {
   "cell_type": "markdown",
   "metadata": {},
   "source": [
    "##### More practically, we'll create a function that will build the model in one go. This will allow us to easily create new versions for testing. "
   ]
  },
  {
   "cell_type": "code",
   "execution_count": 23,
   "metadata": {
    "tags": []
   },
   "outputs": [],
   "source": [
    "# putting all previous steps together\n",
    "def create_model():\n",
    "    model = Sequential([  \n",
    "        Input(shape=(latitude, longitude, channels), name='input'),\n",
    "        Conv2D(filters = 16, kernel_size = (3,3), padding = 'same', activation = 'relu', name='Convolution_01'),\n",
    "        MaxPooling2D(pool_size = (2,2), name='Max_Pooling_01'),\n",
    "        Dropout(.25),\n",
    "        Conv2D(filters = 32, kernel_size = (3,3), padding = 'same', activation = 'relu', name='Convolution_02'),\n",
    "        BatchNormalization(name='Batch_Normalization'),\n",
    "        MaxPooling2D(pool_size = (2,2), name='Max_Pooling_02'),\n",
    "        Dropout(.25),\n",
    "        Flatten(),\n",
    "        Dense(units = 100, activation = 'relu', name='Hidden_Layer_01'),\n",
    "        Dense(units = 100, activation = 'relu', name='Hidden_Layer_02'),\n",
    "        Dropout(.25),\n",
    "        Dense(units = len(facet_list), activation = 'linear', name='Output')\n",
    "    ])\n",
    "    return model"
   ]
  },
  {
   "cell_type": "markdown",
   "metadata": {},
   "source": [
    "##### Let's take a look at the whole thing:"
   ]
  },
  {
   "cell_type": "code",
   "execution_count": 24,
   "metadata": {
    "tags": []
   },
   "outputs": [
    {
     "name": "stdout",
     "output_type": "stream",
     "text": [
      "Model: \"sequential_1\"\n",
      "_________________________________________________________________\n",
      " Layer (type)                Output Shape              Param #   \n",
      "=================================================================\n",
      " Convolution_01 (Conv2D)     (None, 19, 27, 16)        880       \n",
      "                                                                 \n",
      " Max_Pooling_01 (MaxPooling  (None, 9, 13, 16)         0         \n",
      " 2D)                                                             \n",
      "                                                                 \n",
      " dropout_3 (Dropout)         (None, 9, 13, 16)         0         \n",
      "                                                                 \n",
      " Convolution_02 (Conv2D)     (None, 9, 13, 32)         4640      \n",
      "                                                                 \n",
      " Batch_Normalization (Batch  (None, 9, 13, 32)         128       \n",
      " Normalization)                                                  \n",
      "                                                                 \n",
      " Max_Pooling_02 (MaxPooling  (None, 4, 6, 32)          0         \n",
      " 2D)                                                             \n",
      "                                                                 \n",
      " dropout_4 (Dropout)         (None, 4, 6, 32)          0         \n",
      "                                                                 \n",
      " flatten_1 (Flatten)         (None, 768)               0         \n",
      "                                                                 \n",
      " Hidden_Layer_01 (Dense)     (None, 100)               76900     \n",
      "                                                                 \n",
      " Hidden_Layer_02 (Dense)     (None, 100)               10100     \n",
      "                                                                 \n",
      " dropout_5 (Dropout)         (None, 100)               0         \n",
      "                                                                 \n",
      " Output (Dense)              (None, 30)                3030      \n",
      "                                                                 \n",
      "=================================================================\n",
      "Total params: 95678 (373.74 KB)\n",
      "Trainable params: 95614 (373.49 KB)\n",
      "Non-trainable params: 64 (256.00 Byte)\n",
      "_________________________________________________________________\n"
     ]
    }
   ],
   "source": [
    "model = create_model()\n",
    "model.summary()"
   ]
  },
  {
   "cell_type": "markdown",
   "metadata": {},
   "source": [
    "##### Our model has a little over 95,000 parameters or weights to train (hence the need for a lot of images). Note that there are small set of non-trainable parameter from the normalization layer. \n",
    "\n",
    "##### We can also generate a simple visualization:"
   ]
  },
  {
   "cell_type": "code",
   "execution_count": 25,
   "metadata": {
    "tags": []
   },
   "outputs": [
    {
     "name": "stdout",
     "output_type": "stream",
     "text": [
      "You must install pydot (`pip install pydot`) and install graphviz (see instructions at https://graphviz.gitlab.io/download/) for plot_model to work.\n"
     ]
    }
   ],
   "source": [
    "from tensorflow.keras.utils import plot_model\n",
    "plot_model(model, show_shapes=True, show_layer_names=True, show_layer_activations=True,dpi=75)"
   ]
  },
  {
   "cell_type": "markdown",
   "metadata": {},
   "source": [
    "##### The next step is to compile the model. This is an optimization function, a loss function and performance metric. A good option for the loss function in a regression problem is `mean_squared_error`, metrics allows the user to add aditional functions to monitor training. The optimizer implements the agorithmn which updates the weights of the model."
   ]
  },
  {
   "cell_type": "code",
   "execution_count": 26,
   "metadata": {
    "tags": []
   },
   "outputs": [],
   "source": [
    "# set loss function, MSE will have it focus more on the extreme values for learning than if used MAE\n",
    "# optimizer impacts how quickly it trains can also change learning rate in function smaller = learns slower makes smoother loss\n",
    "model.compile(loss = 'mean_squared_error', \n",
    "              metrics = [\"mean_absolute_error\"], \n",
    "              optimizer = RMSprop())"
   ]
  },
  {
   "cell_type": "markdown",
   "metadata": {},
   "source": [
    "## Training the model\n",
    "\n",
    "##### We'll now train the model for 50 epochs using the `fit()` method upon our built model. We specify:\n",
    "\n",
    "- `train_atmos`: The training subset of the atmospheric variables\n",
    "- `train_opg`: The training subset of the observed OPGs\n",
    "- `batch_size`: The number of samples or observation days used per gradient update.\n",
    "- `epochs`: The number of full training iterations.\n",
    "- `validation_data`: The validation subset of the atmospheric variables and observed OPGs\n",
    "\n",
    "##### This takes a few minutes to train (on my laptop). It's worth remembering what is going on here: the algorithm is reading in batches of 32 images, rescaling them, updating model weights through back propagation and then repeating the whole thing 50 times. As we previously defined a separate validation subset, this routine will calculate two losses:\n",
    "- The training loss. This is how accurately the model can predict OPG from the atmospheric 'images' that are being used to update the weights\n",
    "- The validation loss. This is how accurately the model can predict OPG from a set of atmospheric 'images' that are not used in updating the weights\n",
    "\n",
    "##### As the model continues to train, you should see the loss decrease for both of these, but will likely stabilize at a certain point."
   ]
  },
  {
   "cell_type": "code",
   "execution_count": 27,
   "metadata": {
    "scrolled": true,
    "tags": []
   },
   "outputs": [
    {
     "name": "stdout",
     "output_type": "stream",
     "text": [
      "Epoch 1/50\n",
      "60/60 [==============================] - 2s 20ms/step - loss: 0.5877 - mean_absolute_error: 0.4390 - val_loss: 0.4899 - val_mean_absolute_error: 0.3339\n",
      "Epoch 2/50\n",
      "60/60 [==============================] - 1s 14ms/step - loss: 0.4161 - mean_absolute_error: 0.3448 - val_loss: 0.4517 - val_mean_absolute_error: 0.3260\n",
      "Epoch 3/50\n",
      "60/60 [==============================] - 1s 15ms/step - loss: 0.3872 - mean_absolute_error: 0.3315 - val_loss: 0.4049 - val_mean_absolute_error: 0.3185\n",
      "Epoch 4/50\n",
      "60/60 [==============================] - 1s 15ms/step - loss: 0.3766 - mean_absolute_error: 0.3263 - val_loss: 0.3954 - val_mean_absolute_error: 0.3167\n",
      "Epoch 5/50\n",
      "60/60 [==============================] - 1s 15ms/step - loss: 0.3656 - mean_absolute_error: 0.3217 - val_loss: 0.3737 - val_mean_absolute_error: 0.3185\n",
      "Epoch 6/50\n",
      "60/60 [==============================] - 1s 14ms/step - loss: 0.3564 - mean_absolute_error: 0.3200 - val_loss: 0.3777 - val_mean_absolute_error: 0.3225\n",
      "Epoch 7/50\n",
      "60/60 [==============================] - 1s 15ms/step - loss: 0.3506 - mean_absolute_error: 0.3180 - val_loss: 0.3639 - val_mean_absolute_error: 0.3207\n",
      "Epoch 8/50\n",
      "60/60 [==============================] - 1s 15ms/step - loss: 0.3408 - mean_absolute_error: 0.3133 - val_loss: 0.3596 - val_mean_absolute_error: 0.3216\n",
      "Epoch 9/50\n",
      "60/60 [==============================] - 1s 15ms/step - loss: 0.3413 - mean_absolute_error: 0.3131 - val_loss: 0.3719 - val_mean_absolute_error: 0.3259\n",
      "Epoch 10/50\n",
      "60/60 [==============================] - 1s 15ms/step - loss: 0.3392 - mean_absolute_error: 0.3125 - val_loss: 0.3646 - val_mean_absolute_error: 0.3184\n",
      "Epoch 11/50\n",
      "60/60 [==============================] - 1s 14ms/step - loss: 0.3337 - mean_absolute_error: 0.3098 - val_loss: 0.3870 - val_mean_absolute_error: 0.3335\n",
      "Epoch 12/50\n",
      "60/60 [==============================] - 1s 15ms/step - loss: 0.3343 - mean_absolute_error: 0.3095 - val_loss: 0.3785 - val_mean_absolute_error: 0.3324\n",
      "Epoch 13/50\n",
      "60/60 [==============================] - 1s 15ms/step - loss: 0.3240 - mean_absolute_error: 0.3051 - val_loss: 0.3717 - val_mean_absolute_error: 0.3279\n",
      "Epoch 14/50\n",
      "60/60 [==============================] - 1s 15ms/step - loss: 0.3239 - mean_absolute_error: 0.3059 - val_loss: 0.3668 - val_mean_absolute_error: 0.3201\n",
      "Epoch 15/50\n",
      "60/60 [==============================] - 1s 15ms/step - loss: 0.3222 - mean_absolute_error: 0.3054 - val_loss: 0.3518 - val_mean_absolute_error: 0.3161\n",
      "Epoch 16/50\n",
      "60/60 [==============================] - 1s 15ms/step - loss: 0.3116 - mean_absolute_error: 0.3019 - val_loss: 0.3596 - val_mean_absolute_error: 0.3209\n",
      "Epoch 17/50\n",
      "60/60 [==============================] - 1s 15ms/step - loss: 0.3143 - mean_absolute_error: 0.3015 - val_loss: 0.3506 - val_mean_absolute_error: 0.3182\n",
      "Epoch 18/50\n",
      "60/60 [==============================] - 1s 16ms/step - loss: 0.3158 - mean_absolute_error: 0.3019 - val_loss: 0.3571 - val_mean_absolute_error: 0.3141\n",
      "Epoch 19/50\n",
      "60/60 [==============================] - 1s 16ms/step - loss: 0.3109 - mean_absolute_error: 0.3004 - val_loss: 0.3569 - val_mean_absolute_error: 0.3245\n",
      "Epoch 20/50\n",
      "60/60 [==============================] - 1s 16ms/step - loss: 0.3079 - mean_absolute_error: 0.2986 - val_loss: 0.3605 - val_mean_absolute_error: 0.3286\n",
      "Epoch 21/50\n",
      "60/60 [==============================] - 1s 16ms/step - loss: 0.3024 - mean_absolute_error: 0.2968 - val_loss: 0.3553 - val_mean_absolute_error: 0.3253\n",
      "Epoch 22/50\n",
      "60/60 [==============================] - 1s 16ms/step - loss: 0.3002 - mean_absolute_error: 0.2971 - val_loss: 0.3662 - val_mean_absolute_error: 0.3216\n",
      "Epoch 23/50\n",
      "60/60 [==============================] - 1s 16ms/step - loss: 0.2998 - mean_absolute_error: 0.2954 - val_loss: 0.3501 - val_mean_absolute_error: 0.3158\n",
      "Epoch 24/50\n",
      "60/60 [==============================] - 1s 16ms/step - loss: 0.2953 - mean_absolute_error: 0.2945 - val_loss: 0.3608 - val_mean_absolute_error: 0.3273\n",
      "Epoch 25/50\n",
      "60/60 [==============================] - 1s 16ms/step - loss: 0.2914 - mean_absolute_error: 0.2940 - val_loss: 0.3517 - val_mean_absolute_error: 0.3203\n",
      "Epoch 26/50\n",
      "60/60 [==============================] - 1s 16ms/step - loss: 0.2933 - mean_absolute_error: 0.2932 - val_loss: 0.3498 - val_mean_absolute_error: 0.3195\n",
      "Epoch 27/50\n",
      "60/60 [==============================] - 1s 16ms/step - loss: 0.2935 - mean_absolute_error: 0.2922 - val_loss: 0.3614 - val_mean_absolute_error: 0.3234\n",
      "Epoch 28/50\n",
      "60/60 [==============================] - 1s 16ms/step - loss: 0.2845 - mean_absolute_error: 0.2904 - val_loss: 0.3556 - val_mean_absolute_error: 0.3152\n",
      "Epoch 29/50\n",
      "60/60 [==============================] - 1s 16ms/step - loss: 0.2860 - mean_absolute_error: 0.2892 - val_loss: 0.3516 - val_mean_absolute_error: 0.3183\n",
      "Epoch 30/50\n",
      "60/60 [==============================] - 1s 16ms/step - loss: 0.2860 - mean_absolute_error: 0.2904 - val_loss: 0.3481 - val_mean_absolute_error: 0.3159\n",
      "Epoch 31/50\n",
      "60/60 [==============================] - 1s 17ms/step - loss: 0.2815 - mean_absolute_error: 0.2879 - val_loss: 0.3727 - val_mean_absolute_error: 0.3277\n",
      "Epoch 32/50\n",
      "60/60 [==============================] - 1s 17ms/step - loss: 0.2779 - mean_absolute_error: 0.2873 - val_loss: 0.3571 - val_mean_absolute_error: 0.3237\n",
      "Epoch 33/50\n",
      "60/60 [==============================] - 1s 16ms/step - loss: 0.2761 - mean_absolute_error: 0.2861 - val_loss: 0.3564 - val_mean_absolute_error: 0.3224\n",
      "Epoch 34/50\n",
      "60/60 [==============================] - 1s 16ms/step - loss: 0.2697 - mean_absolute_error: 0.2840 - val_loss: 0.3558 - val_mean_absolute_error: 0.3221\n",
      "Epoch 35/50\n",
      "60/60 [==============================] - 1s 17ms/step - loss: 0.2746 - mean_absolute_error: 0.2858 - val_loss: 0.3663 - val_mean_absolute_error: 0.3253\n",
      "Epoch 36/50\n",
      "60/60 [==============================] - 1s 16ms/step - loss: 0.2672 - mean_absolute_error: 0.2824 - val_loss: 0.3737 - val_mean_absolute_error: 0.3344\n",
      "Epoch 37/50\n",
      "60/60 [==============================] - 1s 17ms/step - loss: 0.2697 - mean_absolute_error: 0.2845 - val_loss: 0.3548 - val_mean_absolute_error: 0.3239\n",
      "Epoch 38/50\n",
      "60/60 [==============================] - 1s 17ms/step - loss: 0.2683 - mean_absolute_error: 0.2837 - val_loss: 0.3728 - val_mean_absolute_error: 0.3339\n",
      "Epoch 39/50\n",
      "60/60 [==============================] - 1s 17ms/step - loss: 0.2691 - mean_absolute_error: 0.2822 - val_loss: 0.3675 - val_mean_absolute_error: 0.3300\n",
      "Epoch 40/50\n",
      "60/60 [==============================] - 1s 17ms/step - loss: 0.2637 - mean_absolute_error: 0.2810 - val_loss: 0.3898 - val_mean_absolute_error: 0.3406\n",
      "Epoch 41/50\n",
      "60/60 [==============================] - 1s 16ms/step - loss: 0.2627 - mean_absolute_error: 0.2809 - val_loss: 0.3582 - val_mean_absolute_error: 0.3258\n",
      "Epoch 42/50\n",
      "60/60 [==============================] - 1s 17ms/step - loss: 0.2615 - mean_absolute_error: 0.2805 - val_loss: 0.3484 - val_mean_absolute_error: 0.3211\n",
      "Epoch 43/50\n",
      "60/60 [==============================] - 1s 17ms/step - loss: 0.2620 - mean_absolute_error: 0.2807 - val_loss: 0.3538 - val_mean_absolute_error: 0.3201\n",
      "Epoch 44/50\n",
      "60/60 [==============================] - 1s 16ms/step - loss: 0.2635 - mean_absolute_error: 0.2811 - val_loss: 0.3726 - val_mean_absolute_error: 0.3289\n",
      "Epoch 45/50\n",
      "60/60 [==============================] - 1s 16ms/step - loss: 0.2532 - mean_absolute_error: 0.2784 - val_loss: 0.3536 - val_mean_absolute_error: 0.3207\n",
      "Epoch 46/50\n",
      "60/60 [==============================] - 1s 16ms/step - loss: 0.2529 - mean_absolute_error: 0.2777 - val_loss: 0.3677 - val_mean_absolute_error: 0.3299\n",
      "Epoch 47/50\n",
      "60/60 [==============================] - 1s 16ms/step - loss: 0.2577 - mean_absolute_error: 0.2799 - val_loss: 0.3563 - val_mean_absolute_error: 0.3238\n",
      "Epoch 48/50\n",
      "60/60 [==============================] - 1s 16ms/step - loss: 0.2506 - mean_absolute_error: 0.2769 - val_loss: 0.3599 - val_mean_absolute_error: 0.3256\n",
      "Epoch 49/50\n",
      "60/60 [==============================] - 1s 16ms/step - loss: 0.2535 - mean_absolute_error: 0.2766 - val_loss: 0.3558 - val_mean_absolute_error: 0.3192\n",
      "Epoch 50/50\n",
      "60/60 [==============================] - 1s 16ms/step - loss: 0.2545 - mean_absolute_error: 0.2777 - val_loss: 0.3593 - val_mean_absolute_error: 0.3166\n"
     ]
    }
   ],
   "source": [
    "epochs = 50\n",
    "hist = model.fit(train_atmos, train_opg, # training data\n",
    "                  batch_size = batch_size,\n",
    "                  epochs = epochs,                        # epochs\n",
    "                  validation_data = (val_atmos, val_opg), # validation data\n",
    "                  verbose = 1)                           # print progress"
   ]
  },
  {
   "cell_type": "markdown",
   "metadata": {},
   "source": [
    "##### Now plot the evolution of the loss function and the actual versus predicted OPGs:"
   ]
  },
  {
   "cell_type": "code",
   "execution_count": 28,
   "metadata": {
    "tags": []
   },
   "outputs": [
    {
     "data": {
      "image/png": "[encoded data removed]",
      "text/plain": [
       "<Figure size 700x400 with 1 Axes>"
      ]
     },
     "metadata": {},
     "output_type": "display_data"
    },
    {
     "name": "stdout",
     "output_type": "stream",
     "text": [
      "13/13 [==============================] - 0s 3ms/step\n"
     ]
    },
    {
     "data": {
      "image/png": "[encoded data removed]",
      "text/plain": [
       "<Figure size 600x500 with 2 Axes>"
      ]
     },
     "metadata": {},
     "output_type": "display_data"
    }
   ],
   "source": [
    "def plot_loss(hist_obs, name):\n",
    "    # Define label sizes\n",
    "    label_size = 14\n",
    "    tick_size = 12\n",
    "    \n",
    "    # Create Figure\n",
    "    plt.figure(figsize=(7, 4))\n",
    "    plt.plot(hist_obs.history['loss'], label='train')\n",
    "    plt.plot(hist_obs.history['val_loss'], label='valid')\n",
    "    plt.xlabel(\"Epochs\", fontsize=label_size)\n",
    "    plt.ylabel(\"Mean Squared Error\", fontsize=label_size)\n",
    "    plt.ylim(bottom=0)\n",
    "    plt.grid(True)\n",
    "    plt.legend()\n",
    "\n",
    "    # Save and show figure\n",
    "    path = \"../figures/\"\n",
    "    plt.savefig(f\"{path}eval_loss_{name}.png\", dpi=200, transparent=True,  bbox_inches='tight')\n",
    "    plt.show()\n",
    "\n",
    "def plot_act_pred(modelx, hist_obs, name):\n",
    "    # Using our fitted model, predict OPGs from the testing subset.\n",
    "    predicted = modelx.predict(test_atmos)\n",
    "\n",
    "    # set zero OPGs to nan\n",
    "    actual = test_opg\n",
    "    actual[actual==0] = np.nan\n",
    "    predicted[predicted==0] = np.nan\n",
    "    \n",
    "    # Convert from standardized OPG to mm/m OPG\n",
    "    actual    = (test_opg * opg_std) + opg_mean\n",
    "    predicted = (predicted * opg_std) + opg_mean\n",
    "    \n",
    "    # Lets reshape our OPGs and remove NaN OPG days\n",
    "    actual    = np.reshape(actual, -1)\n",
    "    predicted = np.reshape(predicted, -1)\n",
    "    idx       = np.isnan(actual) # Identify days with OPG observations\n",
    "    actual    = actual[idx==False]\n",
    "    predicted = predicted[idx==False]\n",
    "    \n",
    "    # Formulate the x and y axis limits\n",
    "    max_val = np.max((np.max(predicted[:]), np.max(actual[:])))\n",
    "    min_val = np.min((np.min(predicted[:]), np.min(actual[:])))\n",
    "    max_val = 0.05\n",
    "    min_val = -0.05\n",
    "    \n",
    "    # Define plot colormap\n",
    "    cmap_gnuplot2 = ncm.cmap(\"MPL_gnuplot2\")\n",
    "    \n",
    "    # Define label sizes\n",
    "    label_size = 14\n",
    "    tick_size = 12\n",
    "    \n",
    "    # Create Figure\n",
    "    plt.figure(figsize=(6, 5))\n",
    "    \n",
    "    # Formulate the heatmap variables\n",
    "    heatmap, xedges, yedges = np.histogram2d(np.reshape(actual, -1), np.reshape(predicted, -1), bins=100,\n",
    "                                 range=[[min_val, max_val],[min_val, max_val]])\n",
    "    extent = [xedges[0], xedges[-1], yedges[0], yedges[-1]]\n",
    "\n",
    "    # Plot heatmap\n",
    "    plt.imshow(heatmap.T, extent=extent, origin='lower', cmap=cmap_gnuplot2, norm=colors.LogNorm())\n",
    "\n",
    "    # Plot One-to-one line\n",
    "    plt.plot([xedges[0], xedges[-1]], [yedges[0], yedges[-1]], c='red')\n",
    "\n",
    "    # corr\n",
    "    corr = np.round(np.corrcoef(actual, predicted)[0,1]**2 , 2)\n",
    "    last_mse = np.round(hist_obs.history['val_loss'][-1], 2)\n",
    "    \n",
    "    # Add labels, gridlines, and colorbar\n",
    "    plt.xlabel(\"Actual\", fontsize=label_size)\n",
    "    plt.ylabel(\"Predicted\", fontsize=label_size)\n",
    "    plt.title(\"r^2 = \" + str(corr) + \", Error = \" + str(last_mse))\n",
    "    plt.grid(True)\n",
    "    plt.colorbar()\n",
    "\n",
    "    # Save and show figure\n",
    "    path = \"../figures/\"\n",
    "    plt.savefig(f\"{path}eval_act_pred_{name}.png\", dpi=200, transparent=True,  bbox_inches='tight')\n",
    "    plt.show()\n",
    "\n",
    "\n",
    "plot_loss(hist, 'model_01')\n",
    "plot_act_pred(model, hist, 'model_01')"
   ]
  },
  {
   "cell_type": "markdown",
   "metadata": {},
   "source": [
    "##### The plot shows a steep decline in both loss values, but no real improvement in the validation loss beyond epoch 20. It's quite likely that this model has overfit - become too tuned to the training data to allow prediction. There are a variety of ways we can avoid this, but a simple one is to slow the rate at which the model learns. We'll refit the model, but will add a `learning_rate` parameter to the compilation step. \n",
    "\n",
    "##### Additionally, `callbacks` can be added to the fitting process, in which the fit algorithm will monitor the validation loss. Here, when the validation loss does not improve after 5 epochs, the model stops training."
   ]
  },
  {
   "cell_type": "code",
   "execution_count": 29,
   "metadata": {
    "scrolled": true,
    "tags": []
   },
   "outputs": [
    {
     "name": "stdout",
     "output_type": "stream",
     "text": [
      "Epoch 1/100\n",
      "60/60 [==============================] - 2s 19ms/step - loss: 1.3371 - mean_absolute_error: 0.8052 - val_loss: 0.5100 - val_mean_absolute_error: 0.3708\n",
      "Epoch 2/100\n",
      "60/60 [==============================] - 1s 16ms/step - loss: 0.7230 - mean_absolute_error: 0.5614 - val_loss: 0.4988 - val_mean_absolute_error: 0.3590\n",
      "Epoch 3/100\n",
      "60/60 [==============================] - 1s 15ms/step - loss: 0.5794 - mean_absolute_error: 0.4722 - val_loss: 0.4892 - val_mean_absolute_error: 0.3556\n",
      "Epoch 4/100\n",
      "60/60 [==============================] - 1s 15ms/step - loss: 0.5276 - mean_absolute_error: 0.4336 - val_loss: 0.4809 - val_mean_absolute_error: 0.3536\n",
      "Epoch 5/100\n",
      "60/60 [==============================] - 1s 15ms/step - loss: 0.4889 - mean_absolute_error: 0.4035 - val_loss: 0.4723 - val_mean_absolute_error: 0.3527\n",
      "Epoch 6/100\n",
      "60/60 [==============================] - 1s 15ms/step - loss: 0.4745 - mean_absolute_error: 0.3899 - val_loss: 0.4636 - val_mean_absolute_error: 0.3514\n",
      "Epoch 7/100\n",
      "60/60 [==============================] - 1s 16ms/step - loss: 0.4568 - mean_absolute_error: 0.3773 - val_loss: 0.4496 - val_mean_absolute_error: 0.3486\n",
      "Epoch 8/100\n",
      "60/60 [==============================] - 1s 15ms/step - loss: 0.4467 - mean_absolute_error: 0.3713 - val_loss: 0.4427 - val_mean_absolute_error: 0.3457\n",
      "Epoch 9/100\n",
      "60/60 [==============================] - 1s 15ms/step - loss: 0.4407 - mean_absolute_error: 0.3656 - val_loss: 0.4367 - val_mean_absolute_error: 0.3439\n",
      "Epoch 10/100\n",
      "60/60 [==============================] - 1s 16ms/step - loss: 0.4315 - mean_absolute_error: 0.3596 - val_loss: 0.4244 - val_mean_absolute_error: 0.3412\n",
      "Epoch 11/100\n",
      "60/60 [==============================] - 1s 15ms/step - loss: 0.4203 - mean_absolute_error: 0.3551 - val_loss: 0.4201 - val_mean_absolute_error: 0.3392\n",
      "Epoch 12/100\n",
      "60/60 [==============================] - 1s 16ms/step - loss: 0.4107 - mean_absolute_error: 0.3522 - val_loss: 0.4124 - val_mean_absolute_error: 0.3391\n",
      "Epoch 13/100\n",
      "60/60 [==============================] - 1s 15ms/step - loss: 0.4102 - mean_absolute_error: 0.3496 - val_loss: 0.4079 - val_mean_absolute_error: 0.3372\n",
      "Epoch 14/100\n",
      "60/60 [==============================] - 1s 16ms/step - loss: 0.4063 - mean_absolute_error: 0.3474 - val_loss: 0.4026 - val_mean_absolute_error: 0.3339\n",
      "Epoch 15/100\n",
      "60/60 [==============================] - 1s 16ms/step - loss: 0.3989 - mean_absolute_error: 0.3446 - val_loss: 0.3995 - val_mean_absolute_error: 0.3332\n",
      "Epoch 16/100\n",
      "60/60 [==============================] - 1s 15ms/step - loss: 0.4012 - mean_absolute_error: 0.3458 - val_loss: 0.3977 - val_mean_absolute_error: 0.3318\n",
      "Epoch 17/100\n",
      "60/60 [==============================] - 1s 15ms/step - loss: 0.3957 - mean_absolute_error: 0.3423 - val_loss: 0.3954 - val_mean_absolute_error: 0.3305\n",
      "Epoch 18/100\n",
      "60/60 [==============================] - 1s 16ms/step - loss: 0.3974 - mean_absolute_error: 0.3426 - val_loss: 0.3940 - val_mean_absolute_error: 0.3299\n",
      "Epoch 19/100\n",
      "60/60 [==============================] - 1s 16ms/step - loss: 0.3852 - mean_absolute_error: 0.3378 - val_loss: 0.3891 - val_mean_absolute_error: 0.3278\n",
      "Epoch 20/100\n",
      "60/60 [==============================] - 1s 16ms/step - loss: 0.3888 - mean_absolute_error: 0.3375 - val_loss: 0.3893 - val_mean_absolute_error: 0.3282\n",
      "Epoch 21/100\n",
      "60/60 [==============================] - 1s 16ms/step - loss: 0.3913 - mean_absolute_error: 0.3377 - val_loss: 0.3880 - val_mean_absolute_error: 0.3271\n",
      "Epoch 22/100\n",
      "60/60 [==============================] - 1s 16ms/step - loss: 0.3877 - mean_absolute_error: 0.3349 - val_loss: 0.3858 - val_mean_absolute_error: 0.3265\n",
      "Epoch 23/100\n",
      "60/60 [==============================] - 1s 17ms/step - loss: 0.3811 - mean_absolute_error: 0.3347 - val_loss: 0.3846 - val_mean_absolute_error: 0.3261\n",
      "Epoch 24/100\n",
      "60/60 [==============================] - 1s 16ms/step - loss: 0.3819 - mean_absolute_error: 0.3331 - val_loss: 0.3847 - val_mean_absolute_error: 0.3246\n",
      "Epoch 25/100\n",
      "60/60 [==============================] - 1s 16ms/step - loss: 0.3801 - mean_absolute_error: 0.3335 - val_loss: 0.3850 - val_mean_absolute_error: 0.3242\n",
      "Epoch 26/100\n",
      "60/60 [==============================] - 1s 16ms/step - loss: 0.3742 - mean_absolute_error: 0.3325 - val_loss: 0.3823 - val_mean_absolute_error: 0.3243\n",
      "Epoch 27/100\n",
      "60/60 [==============================] - 1s 16ms/step - loss: 0.3767 - mean_absolute_error: 0.3310 - val_loss: 0.3878 - val_mean_absolute_error: 0.3275\n",
      "Epoch 28/100\n",
      "60/60 [==============================] - 1s 17ms/step - loss: 0.3752 - mean_absolute_error: 0.3307 - val_loss: 0.3830 - val_mean_absolute_error: 0.3243\n",
      "Epoch 29/100\n",
      "60/60 [==============================] - 1s 16ms/step - loss: 0.3710 - mean_absolute_error: 0.3290 - val_loss: 0.3794 - val_mean_absolute_error: 0.3228\n",
      "Epoch 30/100\n",
      "60/60 [==============================] - 1s 16ms/step - loss: 0.3730 - mean_absolute_error: 0.3291 - val_loss: 0.3801 - val_mean_absolute_error: 0.3233\n",
      "Epoch 31/100\n",
      "60/60 [==============================] - 1s 16ms/step - loss: 0.3705 - mean_absolute_error: 0.3287 - val_loss: 0.3790 - val_mean_absolute_error: 0.3226\n",
      "Epoch 32/100\n",
      "60/60 [==============================] - 1s 16ms/step - loss: 0.3660 - mean_absolute_error: 0.3273 - val_loss: 0.3773 - val_mean_absolute_error: 0.3204\n",
      "Epoch 33/100\n",
      "60/60 [==============================] - 1s 16ms/step - loss: 0.3723 - mean_absolute_error: 0.3276 - val_loss: 0.3761 - val_mean_absolute_error: 0.3199\n",
      "Epoch 34/100\n",
      "60/60 [==============================] - 1s 16ms/step - loss: 0.3667 - mean_absolute_error: 0.3246 - val_loss: 0.3754 - val_mean_absolute_error: 0.3199\n",
      "Epoch 35/100\n",
      "60/60 [==============================] - 1s 16ms/step - loss: 0.3644 - mean_absolute_error: 0.3258 - val_loss: 0.3747 - val_mean_absolute_error: 0.3203\n",
      "Epoch 36/100\n",
      "60/60 [==============================] - 1s 16ms/step - loss: 0.3665 - mean_absolute_error: 0.3253 - val_loss: 0.3729 - val_mean_absolute_error: 0.3186\n",
      "Epoch 37/100\n",
      "60/60 [==============================] - 1s 16ms/step - loss: 0.3632 - mean_absolute_error: 0.3251 - val_loss: 0.3742 - val_mean_absolute_error: 0.3196\n",
      "Epoch 38/100\n",
      "60/60 [==============================] - 1s 16ms/step - loss: 0.3579 - mean_absolute_error: 0.3242 - val_loss: 0.3738 - val_mean_absolute_error: 0.3188\n",
      "Epoch 39/100\n",
      "60/60 [==============================] - 1s 16ms/step - loss: 0.3583 - mean_absolute_error: 0.3223 - val_loss: 0.3742 - val_mean_absolute_error: 0.3188\n",
      "Epoch 40/100\n",
      "60/60 [==============================] - 1s 16ms/step - loss: 0.3591 - mean_absolute_error: 0.3225 - val_loss: 0.3746 - val_mean_absolute_error: 0.3199\n",
      "Epoch 41/100\n",
      "60/60 [==============================] - 1s 16ms/step - loss: 0.3535 - mean_absolute_error: 0.3220 - val_loss: 0.3714 - val_mean_absolute_error: 0.3182\n",
      "Epoch 42/100\n",
      "60/60 [==============================] - 1s 16ms/step - loss: 0.3574 - mean_absolute_error: 0.3219 - val_loss: 0.3703 - val_mean_absolute_error: 0.3193\n",
      "Epoch 43/100\n",
      "60/60 [==============================] - 1s 16ms/step - loss: 0.3541 - mean_absolute_error: 0.3220 - val_loss: 0.3679 - val_mean_absolute_error: 0.3169\n",
      "Epoch 44/100\n",
      "60/60 [==============================] - 1s 16ms/step - loss: 0.3538 - mean_absolute_error: 0.3211 - val_loss: 0.3700 - val_mean_absolute_error: 0.3191\n",
      "Epoch 45/100\n",
      "60/60 [==============================] - 1s 16ms/step - loss: 0.3560 - mean_absolute_error: 0.3222 - val_loss: 0.3690 - val_mean_absolute_error: 0.3171\n",
      "Epoch 46/100\n",
      "60/60 [==============================] - 1s 16ms/step - loss: 0.3565 - mean_absolute_error: 0.3209 - val_loss: 0.3692 - val_mean_absolute_error: 0.3174\n",
      "Epoch 47/100\n",
      "60/60 [==============================] - 1s 16ms/step - loss: 0.3556 - mean_absolute_error: 0.3208 - val_loss: 0.3675 - val_mean_absolute_error: 0.3177\n",
      "Epoch 48/100\n",
      "60/60 [==============================] - 1s 16ms/step - loss: 0.3450 - mean_absolute_error: 0.3190 - val_loss: 0.3660 - val_mean_absolute_error: 0.3170\n",
      "Epoch 49/100\n",
      "60/60 [==============================] - 1s 16ms/step - loss: 0.3486 - mean_absolute_error: 0.3194 - val_loss: 0.3652 - val_mean_absolute_error: 0.3167\n",
      "Epoch 50/100\n",
      "60/60 [==============================] - 1s 17ms/step - loss: 0.3504 - mean_absolute_error: 0.3176 - val_loss: 0.3662 - val_mean_absolute_error: 0.3171\n",
      "Epoch 51/100\n",
      "60/60 [==============================] - 1s 17ms/step - loss: 0.3465 - mean_absolute_error: 0.3174 - val_loss: 0.3660 - val_mean_absolute_error: 0.3187\n",
      "Epoch 52/100\n",
      "60/60 [==============================] - 1s 17ms/step - loss: 0.3451 - mean_absolute_error: 0.3178 - val_loss: 0.3651 - val_mean_absolute_error: 0.3179\n",
      "Epoch 53/100\n",
      "60/60 [==============================] - 1s 16ms/step - loss: 0.3464 - mean_absolute_error: 0.3184 - val_loss: 0.3652 - val_mean_absolute_error: 0.3165\n",
      "Epoch 54/100\n",
      "60/60 [==============================] - 1s 16ms/step - loss: 0.3474 - mean_absolute_error: 0.3166 - val_loss: 0.3644 - val_mean_absolute_error: 0.3178\n",
      "Epoch 55/100\n",
      "60/60 [==============================] - 1s 16ms/step - loss: 0.3443 - mean_absolute_error: 0.3170 - val_loss: 0.3632 - val_mean_absolute_error: 0.3162\n",
      "Epoch 56/100\n",
      "60/60 [==============================] - 1s 16ms/step - loss: 0.3452 - mean_absolute_error: 0.3162 - val_loss: 0.3639 - val_mean_absolute_error: 0.3173\n",
      "Epoch 57/100\n",
      "60/60 [==============================] - 1s 16ms/step - loss: 0.3391 - mean_absolute_error: 0.3164 - val_loss: 0.3649 - val_mean_absolute_error: 0.3165\n",
      "Epoch 58/100\n",
      "60/60 [==============================] - 1s 16ms/step - loss: 0.3395 - mean_absolute_error: 0.3153 - val_loss: 0.3626 - val_mean_absolute_error: 0.3165\n",
      "Epoch 59/100\n",
      "60/60 [==============================] - 1s 17ms/step - loss: 0.3432 - mean_absolute_error: 0.3145 - val_loss: 0.3632 - val_mean_absolute_error: 0.3166\n",
      "Epoch 60/100\n",
      "60/60 [==============================] - 1s 17ms/step - loss: 0.3387 - mean_absolute_error: 0.3148 - val_loss: 0.3638 - val_mean_absolute_error: 0.3178\n",
      "Epoch 61/100\n",
      "60/60 [==============================] - 1s 16ms/step - loss: 0.3470 - mean_absolute_error: 0.3163 - val_loss: 0.3628 - val_mean_absolute_error: 0.3168\n",
      "Epoch 62/100\n",
      "60/60 [==============================] - 1s 16ms/step - loss: 0.3361 - mean_absolute_error: 0.3136 - val_loss: 0.3639 - val_mean_absolute_error: 0.3187\n",
      "Epoch 63/100\n",
      "60/60 [==============================] - 1s 16ms/step - loss: 0.3382 - mean_absolute_error: 0.3146 - val_loss: 0.3641 - val_mean_absolute_error: 0.3166\n"
     ]
    }
   ],
   "source": [
    "model = create_model()\n",
    "\n",
    "model.compile(loss = 'mean_squared_error', \n",
    "              metrics = [\"mean_absolute_error\"], \n",
    "              optimizer = RMSprop(learning_rate=1e-4))\n",
    "\n",
    "callback = [EarlyStopping(monitor='val_loss', patience=5, mode='min')]\n",
    "\n",
    "epochs = 100\n",
    "hist = model.fit(train_atmos, train_opg, # training data\n",
    "                  batch_size = batch_size,\n",
    "                  epochs = epochs,                        # epochs\n",
    "                  validation_data = (val_atmos, val_opg), # validation data\n",
    "                  callbacks=[callback],                   # patience\n",
    "                  verbose = 1)                           # print progress"
   ]
  },
  {
   "cell_type": "code",
   "execution_count": 30,
   "metadata": {
    "tags": []
   },
   "outputs": [
    {
     "data": {
      "image/png": "[encoded data removed]",
      "text/plain": [
       "<Figure size 700x400 with 1 Axes>"
      ]
     },
     "metadata": {},
     "output_type": "display_data"
    },
    {
     "name": "stdout",
     "output_type": "stream",
     "text": [
      "13/13 [==============================] - 0s 3ms/step\n"
     ]
    },
    {
     "data": {
      "image/png": "[encoded data removed]",
      "text/plain": [
       "<Figure size 600x500 with 2 Axes>"
      ]
     },
     "metadata": {},
     "output_type": "display_data"
    }
   ],
   "source": [
    "plot_loss(hist, 'model_02_adjust_lr')\n",
    "plot_act_pred(model, hist, 'model_02_adjust_lr')"
   ]
  },
  {
   "cell_type": "markdown",
   "metadata": {},
   "source": [
    "##### The plot now shows a good evolution of the loss value."
   ]
  },
  {
   "cell_type": "markdown",
   "metadata": {},
   "source": [
    "## How does changing the stucture affect the training outcome?\n",
    "\n",
    "##### Along with the loss function, the structure of the CNN can be changed. I suggest seeing what happens when you do the following changes individually:\n",
    "1. `Change the Dense layers to have units=10`\n",
    "2. `Uncomment the additional MaxPooling2D and Conv2D layers`\n",
    "3. `Change the loss function to mean_absolute_error`\n",
    "4. `Set Dropout to zero`\n",
    "\n",
    "##### Pay mind to how changing these parameters affect the number of parameters to train, how long training time becomes, and the 2D histogram of actual versus predicted OPGs. Feel free to try your own edits to inspect how it affects the testing outcome."
   ]
  },
  {
   "cell_type": "code",
   "execution_count": null,
   "metadata": {},
   "outputs": [],
   "source": [
    "model = Sequential([  \n",
    "    Input(shape=(latitude, longitude, channels)),\n",
    "    Conv2D(filters = 16, kernel_size = (3,3), padding = 'same', activation = 'relu'),\n",
    "    MaxPooling2D(pool_size = (2,2)),\n",
    "    Conv2D(filters = 32, kernel_size = (3,3), padding = 'same', activation = 'relu'),\n",
    "    # MaxPooling2D(pool_size = (2,2)),                                                    #2 <-- Comment in this line\n",
    "    # Conv2D(filters = 64, kernel_size = (3,3), padding = 'same', activation = 'relu'),   #2 <-- Comment in this line\n",
    "    BatchNormalization(),\n",
    "    MaxPooling2D(pool_size = (2,2)),\n",
    "    Dropout(0.25),                         #4 <-- Change the dropout from 0.25 to 0.0\n",
    "    Flatten(),\n",
    "    Dense(units = 100, activation = 'relu'),  #1 <-- Change the units of the Dense Layers from 100 to 10\n",
    "    Dense(units = 100, activation = 'relu'),  #1 <-- Change the units of the Dense Layers from 100 to 10\n",
    "    Dropout(0.25),                         #4 <-- Change the dropout from 0.25 to 0.0\n",
    "    Dense(units = len(facet_list), activation = 'linear') ])\n",
    "\n",
    "model.summary()\n",
    "\n",
    "model.compile(loss = 'mean_squared_error',          #3 <-- Change Loss Function Here from mean_squared_error to mean_absolute_error\n",
    "              metrics = [\"mean_absolute_error\", \"mean_squared_error\"], \n",
    "              optimizer = RMSprop(learning_rate=1e-4))\n",
    "\n",
    "epochs = 80\n",
    "batch_size = 32\n",
    "\n",
    "# prevent overfitting\n",
    "callback = [EarlyStopping(monitor='val_loss', patience=5, mode='min')]\n",
    "\n",
    "hist = model.fit(train_atmos, train_opg, \n",
    "                  batch_size = batch_size,\n",
    "                  epochs = epochs,                      \n",
    "                  validation_data = (val_atmos, val_opg),\n",
    "                  callbacks=[callback],\n",
    "                  verbose = 1)                     # <-- If you want to silence training, set to 0, if you want to watch it train, set to 1\n",
    "\n",
    "plot_loss(hist, 'model_03_change_architecture')\n",
    "plot_act_pred(model, hist, 'model_03_change_architecture')"
   ]
  },
  {
   "cell_type": "markdown",
   "metadata": {},
   "source": [
    "#### Notice the differences between outputs when changing the hyperparameters:\n",
    "1. `Change the Dense layers to have units=10`:\n",
    "  The number of trainable parameters decreases considerably from 95,678 to 13,714. Though the mean squared error reaches a minimum around 80 epochs, the OPG heatmap indicates a decrease in r^2 and an increase in error. Overall, the model is less able to predict more extreme OPGs. Possibiliy from too little parameters? Possibly the patience is too sensitive and it should train for longer?\n",
    "\n",
    "2. `Uncomment the additional MaxPooling2D and Conv2D layers`:\n",
    "  Additional MaxPooling2D and Conv2D layers decreased the number of trainable parameters from 95,614 to 75,774. Based on the mean squared error, the model seems to reach a minimum in error somewhere around 60 epochs. The addition of MaxPooling2D and Conv2D layers did not significantly improve or worsen the OPG predictions. More layers don't always improve the model?\n",
    "\n",
    "3. `Change the loss function to mean_absolute_error`:\n",
    "  The number of trainable parameters are consistent. Based on the plot of mean absolute error by epoch, the model tends to train very quickly in the beginning and trains slowly until ending. The OPG heatmap shows OPGs are more underpredicted than when using mean_squared_error, most likely due to the loss function. Mean squared error, since it is squared, forces the model to focus more on larger loss values.\n",
    "\n",
    "4. `Set Dropout to zero`:\n",
    "   The number of trainable parameters are consistent. Based on the plot of mean squared error by epoch, the model tends to train very quickly, possibly ending before epoch 20. This can cause the model to overfitting to the training data. \n",
    "  \n",
    "\n",
    "#### What you choose for hyperparameters and structure all depends on what your goals are. "
   ]
  }
 ],
 "metadata": {
  "kernelspec": {
   "display_name": "notebook-CNN",
   "language": "python",
   "name": "notebook-cnn"
  },
  "language_info": {
   "codemirror_mode": {
    "name": "ipython",
    "version": 3
   },
   "file_extension": ".py",
   "mimetype": "text/x-python",
   "name": "python",
   "nbconvert_exporter": "python",
   "pygments_lexer": "ipython3",
   "version": "3.11.8"
  }
 },
 "nbformat": 4,
 "nbformat_minor": 4
}
